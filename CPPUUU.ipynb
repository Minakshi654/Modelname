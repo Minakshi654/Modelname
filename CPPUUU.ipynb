{
  "nbformat": 4,
  "nbformat_minor": 0,
  "metadata": {
    "colab": {
      "provenance": [],
      "authorship_tag": "ABX9TyPvYKiENCHmaTCD/8y3Ey8E",
      "include_colab_link": true
    },
    "kernelspec": {
      "name": "python3",
      "display_name": "Python 3"
    },
    "language_info": {
      "name": "python"
    }
  },
  "cells": [
    {
      "cell_type": "markdown",
      "metadata": {
        "id": "view-in-github",
        "colab_type": "text"
      },
      "source": [
        "<a href=\"https://colab.research.google.com/github/Minakshi654/Modelname/blob/main/CPPUUU.ipynb\" target=\"_parent\"><img src=\"https://colab.research.google.com/assets/colab-badge.svg\" alt=\"Open In Colab\"/></a>"
      ]
    },
    {
      "cell_type": "code",
      "execution_count": null,
      "metadata": {
        "id": "ryqaFPW7PDlo"
      },
      "outputs": [],
      "source": [
        "import pandas as pd\n",
        "import matplotlib.pyplot as plt\n",
        "\n",
        "df = pd.read_csv(\"/content/overflow_intervals.csv\")\n",
        "\n",
        "# Convert the \"Interval Start\" column to datetime\n",
        "df[\"Interval Start\"] = pd.to_datetime(df[\"Interval Start\"])\n",
        "\n",
        "# Filter for \"Overflow\" status\n",
        "df_overflow = df[df[\"Status\"] == \"Overflow\"]\n",
        "\n",
        "# Group by month and day, and count occurrences\n",
        "df_grouped = df_overflow.groupby([df_overflow[\"Interval Start\"].dt.month, df_overflow[\"Interval Start\"].dt.day]).size()\n",
        "\n",
        "# Create the stacked bar chart\n",
        "plt.figure(figsize=(10, 6))\n",
        "ax = df_grouped.unstack().plot(kind=\"bar\", stacked=True)\n",
        "\n",
        "# Add labels for each day within the stacks\n",
        "for container in ax.containers:\n",
        "    ax.bar_label(container, label_type=\"center\")\n",
        "\n",
        "# Customize labels and title\n",
        "plt.xlabel(\"Month\")\n",
        "plt.ylabel(\"Count of Overflow\")\n",
        "plt.title(\"Stacked Bar Chart: Overflow Incidents by Day\")\n",
        "\n",
        "# Adjust the position of the indicators\n",
        "plt.legend(loc=\"upper left\", bbox_to_anchor=(1, 1))\n",
        "# Show the plot\n",
        "plt.show()\n"
      ]
    }
  ]
}