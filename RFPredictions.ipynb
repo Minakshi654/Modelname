{
  "nbformat": 4,
  "nbformat_minor": 0,
  "metadata": {
    "colab": {
      "provenance": [],
      "authorship_tag": "ABX9TyPPHXQi5BLxRyWK+9Gnmeoh",
      "include_colab_link": true
    },
    "kernelspec": {
      "name": "python3",
      "display_name": "Python 3"
    },
    "language_info": {
      "name": "python"
    }
  },
  "cells": [
    {
      "cell_type": "markdown",
      "metadata": {
        "id": "view-in-github",
        "colab_type": "text"
      },
      "source": [
        "<a href=\"https://colab.research.google.com/github/Minakshi654/Modelname/blob/main/RFPredictions.ipynb\" target=\"_parent\"><img src=\"https://colab.research.google.com/assets/colab-badge.svg\" alt=\"Open In Colab\"/></a>"
      ]
    },
    {
      "cell_type": "code",
      "execution_count": null,
      "metadata": {
        "id": "BNjyF0dQqQXo"
      },
      "outputs": [],
      "source": [
        "import pandas as pd\n",
        "import numpy as np\n",
        "from sklearn.ensemble import RandomForestRegressor\n",
        "from sklearn.metrics import mean_squared_error, accuracy_score, f1_score\n",
        "\n",
        "# Load the dataset\n",
        "df = pd.read_csv('Intervals.csv', parse_dates=['Interval_start'], dayfirst=True)\n",
        "\n",
        "# Prepare the data\n",
        "df.set_index('Interval_start', inplace=True)\n",
        "\n",
        "# Create lag features\n",
        "for lag in range(1, 6):\n",
        "    df[f'lag_{lag}'] = df['Max_total'].shift(lag)\n",
        "\n",
        "# Drop rows with NaN values\n",
        "df.dropna(inplace=True)\n",
        "\n",
        "# Split the data into training and test sets\n",
        "train_size = int(len(df) * 0.8)\n",
        "train, test = df.iloc[:train_size], df.iloc[train_size:]\n",
        "\n",
        "# Separate features and target variable\n",
        "X_train, y_train = train.drop(columns=['Max_total']), train['Max_total']\n",
        "X_test, y_test = test.drop(columns=['Max_total']), test['Max_total']\n",
        "\n",
        "# Fit the Random Forest model\n",
        "model = RandomForestRegressor(n_estimators=50, random_state=42)\n",
        "model.fit(X_train, y_train)\n",
        "\n",
        "# Make predictions\n",
        "predictions = model.predict(X_test)\n",
        "test['Predicted'] = predictions\n",
        "\n",
        "# Handle NaN values in 'Predicted' column\n",
        "test['Predicted'].fillna(0, inplace=True)\n",
        "\n",
        "# Calculate performance metrics\n",
        "mse = mean_squared_error(y_test, predictions)\n",
        "rmse = np.sqrt(mse)\n",
        "\n",
        "# Add status column\n",
        "test['Status'] = np.where(test['Predicted'] >= 1, 'Overflow', 'Normal')\n",
        "\n",
        "# Calculate accuracy and F1 score\n",
        "test['Actual_Status'] = np.where(test['Max_total'] >= 1, 'Overflow', 'Normal')\n",
        "accuracy = accuracy_score(test['Actual_Status'], test['Status'])\n",
        "f1 = f1_score(test['Actual_Status'], test['Status'], pos_label='Overflow')\n",
        "\n",
        "# Print results\n",
        "print(f'MSE: {mse}')\n",
        "print(f'RMSE: {rmse}')\n",
        "print(f'Accuracy: {accuracy * 100:.2f}%')\n",
        "print(f'F1 Score: {f1}')\n",
        "\n",
        "# Print count of overflow\n",
        "overflow_count = test['Status'].value_counts().get('Overflow', 0)\n",
        "print(f'Overflow count: {overflow_count}')\n",
        "\n",
        "# Save the results to a new CSV file\n",
        "test.to_csv('Predicted_Intervals.csv')\n",
        "\n",
        "# Calculate correlations\n",
        "correlations = df.corr()\n",
        "print(correlations)\n"
      ]
    }
  ]
}