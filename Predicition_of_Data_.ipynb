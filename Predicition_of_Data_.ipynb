{
  "nbformat": 4,
  "nbformat_minor": 0,
  "metadata": {
    "colab": {
      "provenance": [],
      "authorship_tag": "ABX9TyPQ++lPnQ3KZKwM6IYohvL4",
      "include_colab_link": true
    },
    "kernelspec": {
      "name": "python3",
      "display_name": "Python 3"
    },
    "language_info": {
      "name": "python"
    }
  },
  "cells": [
    {
      "cell_type": "markdown",
      "metadata": {
        "id": "view-in-github",
        "colab_type": "text"
      },
      "source": [
        "<a href=\"https://colab.research.google.com/github/Minakshi654/Modelname/blob/main/Predicition_of_Data_.ipynb\" target=\"_parent\"><img src=\"https://colab.research.google.com/assets/colab-badge.svg\" alt=\"Open In Colab\"/></a>"
      ]
    },
    {
      "cell_type": "markdown",
      "source": [
        "In summary, a lower MSE is better because it means the model’s predictions are more accurate. Based on your results, RandomForest and DecisionTree are the best models for predicting whether the ‘Max Total’ will overflow in your dataset."
      ],
      "metadata": {
        "id": "IJDDN_5nYilS"
      }
    },
    {
      "cell_type": "code",
      "source": [
        "import pandas as pd\n",
        "import numpy as np\n",
        "from sklearn.model_selection import train_test_split\n",
        "from sklearn.ensemble import RandomForestRegressor\n",
        "from sklearn.linear_model import LinearRegression\n",
        "from sklearn.tree import DecisionTreeRegressor\n",
        "from sklearn.svm import SVR\n",
        "from sklearn.neighbors import KNeighborsRegressor\n",
        "from sklearn.ensemble import GradientBoostingRegressor\n",
        "from sklearn.neural_network import MLPRegressor\n",
        "from sklearn.metrics import mean_squared_error\n",
        "import datetime\n",
        "\n",
        "# Load the dataset\n",
        "df = pd.read_csv('grouped_intervals.csv')\n",
        "\n",
        "# Preprocess the data\n",
        "df['Interval Start'] = pd.to_datetime(df['Interval Start'])\n",
        "df['Day'] = df['Interval Start'].dt.dayofyear\n",
        "\n",
        "# Features and target variable\n",
        "X = df[['Day']]\n",
        "y = df['Max Total']\n",
        "#Handle missing values in 'y' - either remove or impute\n",
        "# Remove rows with missing 'Max Total' values\n",
        "df.dropna(subset=['Max Total'], inplace=True)\n",
        "\n",
        "# Recalculate features and target after handling missing data\n",
        "X = df[['Day']]\n",
        "y = df['Max Total']\n",
        "# Split the data into training and testing sets\n",
        "X_train, X_test, y_train, y_test = train_test_split(X, y, test_size=0.2, random_state=42)\n",
        "\n",
        "# Initialize the models\n",
        "models = {\n",
        "    'RandomForest': RandomForestRegressor(),\n",
        "    'LinearRegression': LinearRegression(),\n",
        "    'DecisionTree': DecisionTreeRegressor(),\n",
        "    'SVR': SVR(),\n",
        "    'KNeighbors': KNeighborsRegressor(),\n",
        "    'GradientBoosting': GradientBoostingRegressor(),\n",
        "    'MLP': MLPRegressor(max_iter=500)\n",
        "}\n",
        "\n",
        "# Train and evaluate each model\n",
        "for name, model in models.items():\n",
        "    model.fit(X_train, y_train)\n",
        "    y_pred = model.predict(X_test)\n",
        "    mse = mean_squared_error(y_test, y_pred)\n",
        "    print(f\"{name} MSE: {mse}\")\n",
        "\n",
        "# Use the RandomForest model to predict for the upcoming year\n",
        "future_dates = pd.date_range(start=\"2024-08-01\", end=\"2025-07-31\", freq='D')\n",
        "# future_dates = pd.date_range(start=\"2024-08-01\", end=\"2024-08-31\", freq='D')\n",
        "future_days = future_dates.dayofyear\n",
        "future_X = pd.DataFrame(future_days, columns=['Day'])\n",
        "\n",
        "rf_model = models['RandomForest']\n",
        "future_predictions = rf_model.predict(future_X)\n",
        "\n",
        "# Create a DataFrame for the predictions\n",
        "predictions_df = pd.DataFrame({\n",
        "    'Date': future_dates,\n",
        "    'Predicted Max Total': future_predictions\n",
        "})\n",
        "predictions_df['Status'] = np.where(predictions_df['Predicted Max Total'] >= 1, 'Overflow', 'Normal')\n",
        "\n",
        "# Save the predictions to a new CSV file\n",
        "predictions_df.to_csv('predictions.csv', index=False)\n",
        "\n",
        "print(\"Predictions saved to predictions.csv\")\n"
      ],
      "metadata": {
        "colab": {
          "base_uri": "https://localhost:8080/"
        },
        "id": "SMHCb-rYYjYn",
        "outputId": "1e36b12f-ebae-4a43-87c3-e093e302b093"
      },
      "execution_count": null,
      "outputs": [
        {
          "output_type": "stream",
          "name": "stdout",
          "text": [
            "RandomForest MSE: 0.02618346796407171\n",
            "LinearRegression MSE: 0.03922805662664355\n",
            "DecisionTree MSE: 0.026178824933861856\n"
          ]
        }
      ]
    },
    {
      "cell_type": "code",
      "source": [],
      "metadata": {
        "id": "Kya4vAetZeMN"
      },
      "execution_count": null,
      "outputs": []
    }
  ]
}